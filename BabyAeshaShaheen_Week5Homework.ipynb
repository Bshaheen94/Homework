{
 "cells": [
  {
   "cell_type": "markdown",
   "metadata": {},
   "source": [
    "# Python Homework (NumPy, Pandas)\n",
    "\n",
    "1. What does Pandas stand for?\n",
    "- Python Data Analysis Library\n",
    "\n",
    "2. What are the 2 collections used in Pandas?\n",
    "- Two collections are series and dataframe \n",
    "\n",
    "3. Name 4 things Pandas can do for us.\n",
    "- Read and write\n",
    "- missing data and clean data\n",
    "- Manipulate data\n",
    "- Analyze Data and visulize data\n",
    "\n",
    "4. To permanently sort a DataFrame, which keyword should one use with the df.sort() method?\n",
    "- df.sort_values()\n",
    "\n",
    "5. What is a CSV?\n",
    "- A CSV is comma seperated values which is a text file.\n",
    "\n",
    "6. When cleaning data what values do we not like in our data?\n",
    "- Null or NaN values"
   ]
  },
  {
   "cell_type": "code",
   "execution_count": null,
   "metadata": {},
   "outputs": [],
   "source": [
    "#Please Complete this Coding Exercise:\n",
    "\n",
    "#Question7\n",
    "#Import NumPy, use one of the NumPy methods and create an array with a shape of (2, 3, 2). You can use the reshape method -- .reshape()\n",
    "\n",
    "import numpy as np\n",
    "arrayArrange = np.arange(12).reshape(2, 3, 2)\n",
    "\n",
    "print(arrayArrange)\n"
   ]
  },
  {
   "cell_type": "code",
   "execution_count": null,
   "metadata": {},
   "outputs": [],
   "source": [
    "#Question8\n",
    "#Use NumPy .linspace() to create an array with 6 linearly spaced values between 0 and 20\n",
    "\n",
    "import numpy as np\n",
    "array_linspace = np.linspace(0, 20, 6)\n",
    "\n",
    "print(array_linspace)"
   ]
  },
  {
   "cell_type": "code",
   "execution_count": null,
   "metadata": {},
   "outputs": [],
   "source": [
    "#Question9\n",
    "#Make a Deep Copy of the above array\n",
    "arrayCopy = array_linspace.copy()\n",
    "\n",
    "print(arrayCopy)"
   ]
  },
  {
   "cell_type": "code",
   "execution_count": null,
   "metadata": {},
   "outputs": [],
   "source": [
    "#Question10\n",
    "#Concatenate these 3 arrays into a new array named 'newArray'...\n",
    "\n",
    "arrayArrange= np.arange(12).reshape(2, 3, 2).ravel()\n",
    "print(arrayArrange)\n",
    "\n",
    "newArray = np.concatenate((arrayArrange, array_linspace, arrayCopy))\n",
    "print(newArray)\n"
   ]
  },
  {
   "cell_type": "code",
   "execution_count": null,
   "metadata": {},
   "outputs": [],
   "source": [
    "#Question11\n",
    "#Sort 'newArray' in order into 'sortedArray'\n",
    "\n",
    "sortedArray = np.sort(newArray)\n",
    "print(sortedArray)"
   ]
  },
  {
   "cell_type": "code",
   "execution_count": null,
   "metadata": {},
   "outputs": [],
   "source": [
    "#Question12\n",
    "#Unpack the array tuples from the above 'reshapedArray' into 4 well named variables. Print the 4 variables.\n",
    "\n",
    "reshapedArray = np.arrange(12).reshape(2, 3, 2)\n",
    "A, B = reshapedArray\n",
    "\n",
    "print(A)\n",
    "print(B)"
   ]
  },
  {
   "cell_type": "code",
   "execution_count": null,
   "metadata": {},
   "outputs": [],
   "source": [
    "#Question13\n",
    "#Combined and sort the following arrays into one called 'comboArray' ...\n",
    "\n",
    "one = ([10, 11, 12, 13, 14, 15, 16, 17])\n",
    "two = ([20, 21, 22, 23, 24, 25, 26, 27])\n",
    "three = ([ 0, 1, 2, 3, 4, 5, 6, 7])\n",
    "comboArray = np.concatenate((one, two, three))\n",
    "comboArray = np.sort(comboArray)\n",
    "\n",
    "print(comboArray)"
   ]
  },
  {
   "cell_type": "code",
   "execution_count": null,
   "metadata": {},
   "outputs": [],
   "source": [
    "#Question14\n",
    "#Take 'comboArray' and perform the following slicing activities:\n",
    "\n",
    "# print sec1 - the 2nd element\n",
    "sec1 = comboArray[1]\n",
    "print(sec1)\n",
    "\n",
    "# print sec2 - all elements from the 3rd element to the last\n",
    "sec2 = comboArray[2:]\n",
    "print(sec2)\n",
    "\n",
    "# print sec3 - all elements from the 4th to the 14th elements\n",
    "sec3 = comboArray[3:14]\n",
    "print(sec3)\n",
    "\n",
    "# print sec4 - the last 6 elements\n",
    "sec4 = comboArray[-6:]\n",
    "print(sec4)\n",
    "\n",
    "# print sec5 - all element from #0 up to and including #15, using the negative number method, i.e. taking a section from the end.\n",
    "sec5 = comboArray[:-10]\n",
    "print(sec5)\n",
    "\n",
    "# print sec6 - from #20 every even element to the end\n",
    "sec6 = comboArray[16::2]\n",
    "print(sec6)\n",
    "\n",
    "# print sec7 - from the last element moving forward, every 5th element.\n",
    "sec7 = comboArray[-1::-5]\n",
    "print(sec7)"
   ]
  },
  {
   "cell_type": "code",
   "execution_count": 21,
   "metadata": {},
   "outputs": [],
   "source": [
    "#Question15\n",
    "#Using Series, create a DataFrame that looks like this:\n",
    "\n",
    "import pandas as pd\n",
    "\n",
    "Dinner = {\n",
    "    \"Ingredients\" : [\"Flour\", \"Milk\", \"Eggs\", \"Spam\"],\n",
    "    \"Quantity\" : [4, 1, 2, 1],\n",
    "    \"Unit\" : [\"cups\", \"cup\", \"large\", \"can\"],\n",
    "}\n",
    "\n",
    "dtype = pd.DataFrame(Dinner)"
   ]
  },
  {
   "cell_type": "code",
   "execution_count": null,
   "metadata": {},
   "outputs": [],
   "source": [
    "#Question16\n",
    "#Take this data and create a DataFrame named studentData\n",
    "\n",
    "studentData =     {'Name': ['Jai', 'janusha', 'Gaurav', 'Anuj'],\n",
    "        'Height': [5.1, 6.2, 5.1, 5.2],\n",
    "        'Qualification': ['Msc', 'MA', 'Msc', 'Msc'],\n",
    "        'address': ['Delhi', 'Doha', 'Chennai', 'Dakhar'],\n",
    "        'Age': [21, 23, 24, 21],\n",
    "        'Pets': ['Dog', 'Bunny', 'Chinchilla', 'Parrot'],\n",
    "        'sport': ['Darts', 'Basketball', 'PaddleBoarding', 'Cricket']\n",
    "    }\n",
    "print(studentData)"
   ]
  },
  {
   "cell_type": "code",
   "execution_count": null,
   "metadata": {},
   "outputs": [],
   "source": [
    "#Question17\n",
    "#Add a new column to the DataFrame with the following deserts: [\"ice cream\", \"Cashew Fudge\", \"waffels\", \"Carrot Halwa\"]\n",
    "\n",
    "studentData['Deserts'] = [\"ice cream\", \"Cashew Fudge\", \"waffels\", \"Carrot Halwa\"]\n",
    "\n",
    "print(studentData)\n"
   ]
  },
  {
   "cell_type": "code",
   "execution_count": null,
   "metadata": {},
   "outputs": [],
   "source": [
    "#Question18\n",
    "#Sort the 'studentData' DataFrame in Ascending order -- Sorting by column 'Name' and then \"address\"\n",
    "\n",
    "studentData = pd.DataFrame(studentData)\n",
    "studentData.sort_values(by=['Name', 'address'], inplace=True)\n",
    "\n",
    "print(studentData)\n"
   ]
  },
  {
   "cell_type": "code",
   "execution_count": 22,
   "metadata": {},
   "outputs": [],
   "source": [
    "#Question19\n",
    "#Save this DataFrame here below to disc as a .CSV file with the name cows_and_goats.csv\n",
    "\n",
    "dtype = pd.DataFrame({'Cows': [12, 20], 'Goats': [22, 19]}, index=['Year 1', 'Year 2'])\n",
    "dtype.to_csv('cows_and_goats.csv',index=False)\n"
   ]
  },
  {
   "cell_type": "code",
   "execution_count": null,
   "metadata": {},
   "outputs": [],
   "source": [
    "#Question20\n",
    "#(A) Using Pandas, make your own .CSV file with data on vegetables and save it. (B) Using Pandas, make a change to your CSV file, and save a copy with a different name.\n",
    "\n",
    "data = {\n",
    "    'Vegetables': ['Tomatoe', 'Broccoli', 'onion', \"Carrot\" ],\n",
    "    'Color': ['Red', 'Brown', 'White', 'Green']\n",
    "}\n",
    "dtype = pd.DataFrame(data)\n",
    "dtype.to_csv('vegetables.csv', index=False)\n",
    "\n",
    "\n",
    "dtype['Taste'] = ['Sweet', 'Bitter', 'Sharp', 'Sweet']\n",
    "dtype.to_csv('VegTaste', index=False)\n"
   ]
  }
 ],
 "metadata": {
  "kernelspec": {
   "display_name": "Python 3",
   "language": "python",
   "name": "python3"
  },
  "language_info": {
   "codemirror_mode": {
    "name": "ipython",
    "version": 3
   },
   "file_extension": ".py",
   "mimetype": "text/x-python",
   "name": "python",
   "nbconvert_exporter": "python",
   "pygments_lexer": "ipython3",
   "version": "3.12.3"
  }
 },
 "nbformat": 4,
 "nbformat_minor": 2
}
