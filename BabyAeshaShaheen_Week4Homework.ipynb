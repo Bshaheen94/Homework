{
 "cells": [
  {
   "cell_type": "markdown",
   "metadata": {},
   "source": [
    "## Python Homework -Week 4\n",
    "\n",
    "##### What does one need to do to use a module?\n",
    "1. import the module\n",
    "2. Access fuctions and attributes\n",
    "3. Use the modules funtionality\n",
    "\n",
    "##### Name a Module (not the DateTime Nodule) we looked at and write a line or 2 of code as an example using this module.\n",
    "import random\n",
    "\n",
    "die_roll = random.randint(1, 6)\n",
    "print(\"You rolled:\", die_roll)\n",
    "\n",
    "##### What is a benefit of using Exception handling?\n",
    "- Helps gracefullly handle errors and unexpected situations that may arise during the execution or any code.\n",
    "\n",
    "##### what are the 4 components used for Python Exception Handling?\n",
    "- try\n",
    "- except\n",
    "- else\n",
    "- finally \n",
    "\n",
    "##### NumPy arrays are like what Python data type?\n",
    "- Are similar to Python lists in many ways, but they are more powerful and efficient for numberial computing tasks.\n",
    "\n",
    "##### What is one of the main benefits of using NumPy arrays.\n",
    "1. Less memory\n",
    "\n",
    "##### What is one of the main requirements about the 'dtype' of NumPy arrays?\n",
    "- All elements within a single NumPy array must have the same data type\n",
    "\n",
    "##### Of the 10 uses of NumPy, name 2.\n",
    "1. numerical computations\n",
    "2. data analysis\n",
    "\n",
    "##### Name one of the other libraries we'll use with NumPy?\n",
    "- Matplotlib\n",
    "\n",
    "##### What is the shape of NumPy arrays?\n",
    "- tuple\n",
    "\n",
    "##### What is a Tensor?\n",
    "- an array with 3+ dimensions\n",
    "\n",
    "##### Name a reason why it's better using NumPy for Data Analysis than using a Python List?\n",
    "- Python does not have built-in support for Arrays by default, but there are other ways to implement the benefits of Arrays.\n",
    "\n",
    "##### When creating an \"empty\" array, where do the elements come from?\n",
    "1. Less Memory - NumPy arrays occupy less memory as compared to lists\n",
    "2. Fast - NumPy arrays are faster compared to lists\n",
    "3. Convenient - it is convenient to work with NumPy\n",
    "\n"
   ]
  },
  {
   "cell_type": "code",
   "execution_count": null,
   "metadata": {},
   "outputs": [],
   "source": [
    "1. #Create an if statement: if 'age' is greater than or equal to 25, print \"Renting a car is more affordable\", however if 'age' is less than 25, print \"Renting a car is very expensive.\"\n",
    "age = 29 #you can replace 29 with any value\n",
    "\n",
    "if age >= 25:\n",
    "    print (\"Renting a car is more affordable\")\n",
    "else: \n",
    "    print (\"Renting a car is very expensive.\")\n",
    "\n"
   ]
  },
  {
   "cell_type": "code",
   "execution_count": null,
   "metadata": {},
   "outputs": [],
   "source": [
    "\n",
    "2. #Create and chain an if-else statement: if 'age' is greater than or equal to 25, print \"Renting a car is more affordable.\" If 'age' is less than 25 but greater than or equal to 18, print \"Renting a car is very expensive.\" Finally, if age is less than 18, print \"You cannot legally rent a car.\"\n",
    "age = 16 #you can replace 16 with any age value\n",
    "\n",
    "if age >= 25:\n",
    "    print (\"Renting a car is more affordable.\")\n",
    "elif age >= 18:\n",
    "    print(\"Renting a car is very expensive\")\n",
    "else: \n",
    "    print(\"You cannot legaaly rent a car.\")\n",
    "\n"
   ]
  },
  {
   "cell_type": "code",
   "execution_count": null,
   "metadata": {},
   "outputs": [],
   "source": [
    "\n",
    "3. #Loop over the following string to (1) count all the characters in the string and (2) print out all the vowels -- \"The quick brown fox jumps over the lazy dog\"\n",
    "# Define the string\n",
    "sentence = \"The quick brown fox jumps over the lazy dog\"\n",
    "\n",
    "# Initialize variables to count characters and store vowels\n",
    "character_count = 0\n",
    "vowels = \"aeiouAEIOU\"\n",
    "\n",
    "# Loop through each character in the string\n",
    "for char in sentence:\n",
    "    # Increment character count\n",
    "    character_count += 1\n",
    "    \n",
    "    # Check if the character is a vowel\n",
    "    if char in vowels:\n",
    "        print(char)\n",
    "\n",
    "# Print total character count\n",
    "print(\"Total characters in the string:\", character_count)\n",
    "\n"
   ]
  },
  {
   "cell_type": "code",
   "execution_count": null,
   "metadata": {},
   "outputs": [],
   "source": [
    "\n",
    "4. #Write a nested loop that prints out every piece of clothing from the couture list, in every fashionable color from the panettone set: couture = [\"trousers\", \"blouse\", \"bandana\", \"cumber band\", \"blazer\", \"vest\", \"french beret\", \"scarf\", \"stole\"] and panettone = {\"cerise\", \"fuchsia\", \"aqua\", \"maple\", \"auburn\", \"burnt sienna\", \"gunmetal blue\", \"Dark Sapphire\"}\n",
    "couture = [\"trousers\", \"blouse\", \"bandana\", \"cumber band\", \"blazer\", \"vest\", \"french beret\", \"scarf\", \"stole\"]\n",
    "panettone = {\"cerise\", \"fuchsia\", \"aqua\", \"maple\", \"auburn\", \"burnt sienna\", \"gunmetal blue\", \"Dark Sapphire\"}\n",
    "\n",
    "# Nested loop to print every combination\n",
    "for clothing in couture:\n",
    "    for color in panettone:\n",
    "        print(f\"{clothing} in {color}\")"
   ]
  },
  {
   "cell_type": "code",
   "execution_count": null,
   "metadata": {},
   "outputs": [],
   "source": [
    "\n",
    "5. #Use range as a loop to calculate the sum of all the numbers from 1 to 100\n",
    "\n",
    "# Initialize a variable to store the sum\n",
    "total_sum = 0\n",
    "\n",
    "# Loop through the numbers from 1 to 100\n",
    "for num in range(1, 101):\n",
    "    total_sum += num\n",
    "\n",
    "# Print the sum\n",
    "print(\"The sum of all the numbers from 1 to 100 is:\", total_sum)"
   ]
  },
  {
   "cell_type": "code",
   "execution_count": null,
   "metadata": {},
   "outputs": [],
   "source": [
    "\n",
    "6. #Print the second item in this fruits list. [\"apple\", \"banana\", \"cherry\"]\n",
    "fruits = [\"apple\", \"banana\", \"cherry\"]\n",
    "print(fruits[1])"
   ]
  },
  {
   "cell_type": "code",
   "execution_count": null,
   "metadata": {},
   "outputs": [],
   "source": [
    "\n",
    "7. #Change the value from \"apple\" to \"kiwi\", in the fruits list. [\"apple\", \"banana\", \"cherry\"]\n",
    "fruits = [\"apple\", \"banana\", \"cherry\"]\n",
    "fruits[0] = \"kiwi\"\n",
    "print(fruits)"
   ]
  },
  {
   "cell_type": "code",
   "execution_count": null,
   "metadata": {},
   "outputs": [],
   "source": [
    "\n",
    "8. #Use the append method to add \"orange\" to the fruits list. [\"apple\", \"banana\", \"cherry\"]\n",
    "fruits = [\"apple\", \"banana\", \"cherry\"]\n",
    "fruits.append(\"orange\")\n",
    "print(fruits)"
   ]
  },
  {
   "cell_type": "code",
   "execution_count": null,
   "metadata": {},
   "outputs": [],
   "source": [
    "\n",
    "9. #Use the insert method to add \"lemon\" as the second item in the fruits list. [\"apple\", \"banana\", \"cherry\"]\n",
    "fruits = [\"apple\", \"banana\", \"cherry\"]\n",
    "fruits.insert(1, \"lemon\")\n",
    "print(fruits)"
   ]
  },
  {
   "cell_type": "code",
   "execution_count": null,
   "metadata": {},
   "outputs": [],
   "source": [
    "\n",
    "10. #Use the remove method to remove \"banana\" from the fruits list. [\"apple\", \"banana\", \"cherry\"]\n",
    "fruits = [\"apple\", \"banana\", \"cherry\"]\n",
    "fruits.remove(\"banana\")\n",
    "print(fruits)"
   ]
  },
  {
   "cell_type": "code",
   "execution_count": null,
   "metadata": {},
   "outputs": [],
   "source": [
    "\n",
    "11. #Use negative indexing to print the 3rd and 2nd to last items in the list. [\"apple\", \"banana\", \"cherry\", \"orange\", \"kiwi\", \"melon\", \"mango\"]\n",
    "fruits = [\"apple\", \"banana\", \"cherry\", \"orange\", \"kiwi\", \"melon\", \"mango\"]\n",
    "print(\"3rd item from the end:\", fruits[-3])\n",
    "print(\"2nd to last item:\", fruits[-2])"
   ]
  },
  {
   "cell_type": "code",
   "execution_count": null,
   "metadata": {},
   "outputs": [],
   "source": [
    "\n",
    "12. #Use a range of indexes to print the third, fourth, and fifth item in the list. [\"apple\", \"banana\", \"cherry\", \"orange\", \"kiwi\", \"melon\", \"mango\"]\n",
    "fruits = [\"apple\", \"banana\", \"cherry\", \"orange\", \"kiwi\", \"melon\", \"mango\"]\n",
    "print(\"Third, fourth, and fifth items in the list:\", fruits[2:5])"
   ]
  },
  {
   "cell_type": "code",
   "execution_count": null,
   "metadata": {},
   "outputs": [],
   "source": [
    "\n",
    "13. #Use the correct syntax to print the number of items in the list. [\"apple\", \"banana\", \"cherry\", \"orange\", \"kiwi\", \"melon\", \"mango\"]\n",
    "fruits = [\"apple\", \"banana\", \"cherry\", \"orange\", \"kiwi\", \"melon\", \"mango\"]\n",
    "print(\"Number of items in the list:\", len(fruits))"
   ]
  },
  {
   "cell_type": "code",
   "execution_count": null,
   "metadata": {},
   "outputs": [],
   "source": [
    "\n",
    "14. #Use the correct syntax to sort this list in reverse order [\"apple\", \"banana\", \"cherry\", \"orange\", \"kiwi\", \"melon\", \"mango\"]\n",
    "fruits = [\"apple\", \"banana\", \"cherry\", \"orange\", \"kiwi\", \"melon\", \"mango\"]\n",
    "fruits.sort(reverse=True)\n",
    "print(\"Sorted list in reverse order:\", fruits)"
   ]
  }
 ],
 "metadata": {
  "kernelspec": {
   "display_name": "Python 3",
   "language": "python",
   "name": "python3"
  },
  "language_info": {
   "codemirror_mode": {
    "name": "ipython",
    "version": 3
   },
   "file_extension": ".py",
   "mimetype": "text/x-python",
   "name": "python",
   "nbconvert_exporter": "python",
   "pygments_lexer": "ipython3",
   "version": "3.12.3"
  }
 },
 "nbformat": 4,
 "nbformat_minor": 2
}
