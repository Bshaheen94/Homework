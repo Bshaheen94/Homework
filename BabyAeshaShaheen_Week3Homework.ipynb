{
 "cells": [
  {
   "cell_type": "code",
   "execution_count": null,
   "metadata": {},
   "outputs": [],
   "source": [
    "#Python Week 3 Homework\n",
    "\n",
    "#What is an algorithm?\n",
    "#Algoithms are step by step instructions to do specific thing. \n",
    "\n",
    "#Variable names may not start with certain characters - name two.\n",
    "#numbers or characters\n",
    "\n",
    "#What is a Semantic error?\n",
    "#An error that the computer does not understand.\n",
    "\n",
    "#What is the #1 rule of coding / debugging?\n",
    "#Complexity does not lead to efficiency\n",
    "\n",
    "#List 5 Python reserved words.\n",
    "#not,with,class,and,break"
   ]
  },
  {
   "cell_type": "code",
   "execution_count": 1,
   "metadata": {},
   "outputs": [
    {
     "name": "stdout",
     "output_type": "stream",
     "text": [
      "Aesha\n",
      "Pizza\n",
      "Data Analytist\n"
     ]
    }
   ],
   "source": [
    "#Question6\n",
    "#Write a multi-line string with your name, favorite food, and dream job on 3 different lines\n",
    "\n",
    "print(\"Aesha\")\n",
    "print(\"Pizza\")\n",
    "print(\"Data Analytst\")\n"
   ]
  },
  {
   "cell_type": "code",
   "execution_count": 4,
   "metadata": {},
   "outputs": [
    {
     "name": "stdout",
     "output_type": "stream",
     "text": [
      "16\n",
      "n\n"
     ]
    }
   ],
   "source": [
    "#Question7\n",
    "#Assign 5 different data types to 5 different variables. At least one datatype must be a string\n",
    "#Print the length of your string\n",
    "#Print the index value of the 4th character in your string\n",
    "\n",
    "Var1 = \"John is Awesome!\"\n",
    "Var2 = 50\n",
    "Var3 = [75, \"inches\"]\n",
    "Var4 = False\n",
    "Var5 = 100.0\n",
    "\n",
    "print(len(Var1))\n",
    "print(Var1[3])"
   ]
  },
  {
   "cell_type": "code",
   "execution_count": 5,
   "metadata": {},
   "outputs": [
    {
     "name": "stdout",
     "output_type": "stream",
     "text": [
      "ing Data Analytics\n",
      "Learning Data Analytics and Python is Awesome!\n",
      "Learning Data Analytics and Python is Awesome! see it contains Python\n"
     ]
    }
   ],
   "source": [
    "#Question8\n",
    "#Create a new variable called savvy, and assign it the string with this phrase \"Learning Data Analytics and Python is Awesome!\"\n",
    "savvy = \"Learning Data Analytics and Python is Awesome!\"\n",
    "\n",
    "#Return a range of characters that slices the above string from the beginning of \"ing\" up to before \"and\"\n",
    "print(savvy[5:23])\n",
    "\n",
    "#Replace \"Awesome\" with \"great\" in the string\n",
    "savvy1 = savvy.replace(\"Awecome\", \"great\")\n",
    "\n",
    "#Test and print the savvy string to see it contains \"Python\"\n",
    "print(savvy)\n",
    "if \"Python\" in savvy:\n",
    "    print(savvy, \"see it contains Python\")\n",
    "\n",
    "    "
   ]
  },
  {
   "cell_type": "code",
   "execution_count": 9,
   "metadata": {},
   "outputs": [
    {
     "name": "stdout",
     "output_type": "stream",
     "text": [
      "Hi, my name is Aesha, I am 65 inches tall and 30 years old today\n",
      "30.0\n"
     ]
    }
   ],
   "source": [
    "#Question9\n",
    "#Create and assign 3 more variables called name, age and length using the multi-variable naming method\n",
    "name = \"Aesha\"\n",
    "age = \"30\"\n",
    "length = \"65 inches\"\n",
    "\n",
    "#Format a new string called 'miniBio' using variables in curly brackets to complete this phrase... \"Hi my name is (name), I am (tall) and (so) old today.\"\n",
    "miniBio = \"Hi, my name is {}, I am {} tall and {} years old today\"\n",
    "\n",
    "#Print 'miniBio'\n",
    "print(miniBio.format(name, length,age))\n",
    "\n",
    "#Cast and print the age variable to a float\n",
    "cast = float(age)\n",
    "print(cast)"
   ]
  },
  {
   "cell_type": "code",
   "execution_count": 1,
   "metadata": {},
   "outputs": [
    {
     "name": "stdout",
     "output_type": "stream",
     "text": [
      "['John is Awesome!', 50, [75, 'inches'], False, 100.0, 'Food:pizza', 'Color:blue']\n",
      "[False, 100.0, 'Food:pizza']\n",
      "['strawberry, apple, pear, orange, grapes']\n"
     ]
    }
   ],
   "source": [
    "#Question10\n",
    "#Create a list of at least 5 elements of mixed data types\n",
    "\n",
    "dtlist1 =[ \"John is Awesome!\", 50, [75, \"inches\"], False, 100.0]\n",
    "\n",
    "#Replace a part of it with something else\n",
    "#Append or insert several more items to the list\n",
    "dtlist1.append(\"Food:pizza\")\n",
    "dtlist1.append(\"Color:blue\")\n",
    "\n",
    "#Find and print the length of the list\n",
    "dtlistlen = len(dtlist1)\n",
    "print(dtlist1)\n",
    "\n",
    "#Slice a sub-section of the 1st list, and save it to a different 2nd list\n",
    "dtlist2 = dtlist1[3:6]\n",
    "\n",
    "#Print the 2nd list\n",
    "print(dtlist2)\n",
    "\n",
    "#Extend your original list with the 2nd list sliced above\n",
    "dtlist1.extend(dtlist2)\n",
    "\n",
    "#Create a new list called \"simList\" containing at least 5 elements of the same data type, either string, integer, float, or Boolean\n",
    "simList = [\"strawberry, apple, pear, orange, grapes\"]\n",
    "\n",
    "#Sort \"simList\", and print the list\n",
    "simList.sort()\n",
    "print(simList)\n",
    "\n",
    "#Copy the \"simList\" list to another 3rd list\n",
    "dtlist3 = simList.copy()\n",
    "\n",
    "#Add the 2nd and 3rd lists together into a 4th list\n",
    "dtlist4 = [dtlist2 + dtlist3]"
   ]
  },
  {
   "cell_type": "code",
   "execution_count": 5,
   "metadata": {},
   "outputs": [
    {
     "name": "stdout",
     "output_type": "stream",
     "text": [
      "Aug\n",
      "['Apr', 'Apr', 'Apr', 'Aug', 'Aug', 'Aug', 'Feb', 'Feb', 'Feb', 'Jan', 'Jan', 'Jan', 'Jun', 'Jun', 'Jun', 'Mar', 'Mar', 'Mar']\n",
      "Apr\n",
      "Aug\n",
      "Aug\n",
      "Aug\n",
      "(50,)\n",
      "['Apr', 'Apr', 'Apr', 'Aug', 'Aug', 'Aug', 'Feb', 'Feb', 'Feb', 'Jan', 'Jan', 'Jan', 'Jun', 'Jun', 'Jun', 'Mar', 'Mar', 'Mar', 'Apr', 'Aug', 'Aug', 'Aug']\n"
     ]
    }
   ],
   "source": [
    "#Question11\n",
    "#Create a tuple of about 5 elements\n",
    "tupele1 = [\"Jan\", \"Feb\", \"Mar\", \"Apr\", \"Jun\", \"Aug\"]\n",
    "\n",
    "#Multiply your tuple by 3 and save it to a new 2nd tuple\n",
    "tupele2 = tupele1 *3\n",
    "\n",
    "#Access and print the 12th element from the 2nd tuple\n",
    "ele12 = tupele2[11]\n",
    "print(ele12)\n",
    "\n",
    "#Sort the 2nd tuple and print it\n",
    "tupele2.sort()\n",
    "print(tupele2)\n",
    "\n",
    "#Copy 4 specific elements from your 2nd tuple to a new 3nd tuple\n",
    "tupele3 = tupele2[2:6]\n",
    "\n",
    "#Unpack the 3rd tuple into 4 variables and print these variables\n",
    "(blue, red, purple, pink) = tupele3\n",
    "print(blue)\n",
    "print(red)\n",
    "print(purple)\n",
    "print(pink)\n",
    "\n",
    "#Create a 4th tuple with single item 50 and print this tuple\n",
    "tupele4 = (50,)\n",
    "print(tupele4)\n",
    "\n",
    "#Add the 2nd and 3rd tuple together into a 5th tuple and print the tuple\n",
    "tupele5 =tupele2 + tupele3\n",
    "print(tupele5)"
   ]
  },
  {
   "cell_type": "code",
   "execution_count": 10,
   "metadata": {},
   "outputs": [
    {
     "name": "stdout",
     "output_type": "stream",
     "text": [
      "['apples', 'banana', 'oranges']\n",
      "{'blue', 'pink'}\n",
      "set()\n",
      "{'medium', 'small', 'large', 'pink', 'cars'}\n"
     ]
    }
   ],
   "source": [
    "#Question12\n",
    "#Create a set of about 3 elements\n",
    "sizes = {\"small\", \"medium\", \"large\"}\n",
    "\n",
    "#Add a list of fruits to the above set and print the result\n",
    "fruits1 = [\"apples\", \"banana\", \"oranges\"]\n",
    "print(fruits1)\n",
    "\n",
    "#Add a car element to your set\n",
    "sizes.add(\"cars\")\n",
    "\n",
    "#Create a 2nd set with a few odd items\n",
    "colors = {\"pink\", \"yellow\", \"blue\"}\n",
    "\n",
    "#Save the union of 1st set and 2nd set to a 3rd set\n",
    "set3 = sizes.union(colors)\n",
    "\n",
    "#Pop an element from the 2nd set, and print the remainder of the set\n",
    "colors.pop()\n",
    "print(colors)\n",
    "\n",
    "#Clear the 1st set and print the result\n",
    "sizes.clear()\n",
    "print(sizes)\n",
    "\n",
    "#Discard an element, and remove another element from the 3rd set\n",
    "set3.discard(\"yellow\")\n",
    "set3.remove(\"blue\")\n",
    "\n",
    "#Print the remainder of the 3rd set\n",
    "print(set3)"
   ]
  },
  {
   "cell_type": "code",
   "execution_count": null,
   "metadata": {},
   "outputs": [],
   "source": [
    "#Question13\n",
    "#Create a dictionary with at least 5 values of different data types\n",
    "dt1 = {\n",
    "    \"Name\": \"John\",\n",
    "    \"Age\": \"50\",\n",
    "    \"Height\": \"75 inches\",\n",
    "    \"Wight\": 150,\n",
    "    \"eyecolor\": \"black\"\n",
    "}\n",
    "\n",
    "#Print out 1 value\n",
    "print(dt1[\"Name\"])\n",
    "\n",
    "#Replace any one value in your dictionary with your name\n",
    "\n",
    "\n",
    "#Add your favorite color to the dictionary\n",
    "\n",
    "\n",
    "#Add a list, tuple or set to your dictionary\n",
    "\n",
    "\n",
    "#Print a list of the dictionary keys\n",
    "\n",
    "\n",
    "#Print a list of the dictionary values\n",
    "\n",
    "\n",
    "#Copy your 1st dictionary into a 2nd dictionary\n",
    "\n",
    "\n",
    "#Pop an item from the 2nd dictionary, and print the dictionary\n",
    "\n",
    "\n",
    "#Remove all the elements from the 2nd dictionary and print the result"
   ]
  }
 ],
 "metadata": {
  "kernelspec": {
   "display_name": "Python 3",
   "language": "python",
   "name": "python3"
  },
  "language_info": {
   "codemirror_mode": {
    "name": "ipython",
    "version": 3
   },
   "file_extension": ".py",
   "mimetype": "text/x-python",
   "name": "python",
   "nbconvert_exporter": "python",
   "pygments_lexer": "ipython3",
   "version": "3.12.3"
  }
 },
 "nbformat": 4,
 "nbformat_minor": 2
}
